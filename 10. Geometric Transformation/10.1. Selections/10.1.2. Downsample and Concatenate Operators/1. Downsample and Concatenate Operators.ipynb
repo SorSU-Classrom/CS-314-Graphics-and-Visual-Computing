{
 "cells": [
  {
   "cell_type": "code",
   "execution_count": 1,
   "metadata": {},
   "outputs": [
    {
     "name": "stdout",
     "output_type": "stream",
     "text": [
      "Original Image Shape: (686, 686, 3)\n",
      "Downsampled Image Shape: (43, 43, 3)\n",
      "Resized Image Shape: (686, 686, 3)\n"
     ]
    }
   ],
   "source": [
    "'''\n",
    "Downsample and Concatenate Operators\n",
    "\n",
    "Downsampling\n",
    "- is the process of reducing the resolution of an image. This is done by\n",
    "removing pixels from the image. The downsample operator is used to reduce\n",
    "the resolution of an image by a factor of 2. The concatenate operator is\n",
    "used to concatenate two images along the horizontal or vertical axis.\n",
    "'''\n",
    "\n",
    "import cv2\n",
    "import numpy as np\n",
    "\n",
    "def display_image(image, title=\"Image\", x=512, y=512):\n",
    "    cv2.namedWindow(title, cv2.WINDOW_NORMAL)\n",
    "    cv2.resizeWindow(title, x, y)\n",
    "    cv2.imshow(title, image)\n",
    "\n",
    "# Load the image\n",
    "image = cv2.imread(\"../../../assets/images/fruits.jpg\")\n",
    "\n",
    "# Downsample the image by a factor of resize_factor\n",
    "resize_factor = 16\n",
    "downsampled_image = image[::resize_factor, ::resize_factor]\n",
    "\n",
    "# Resize the downsampled image to the original image size but no blur\n",
    "resized_image = cv2.resize(downsampled_image, (image.shape[1], image.shape[0]), interpolation=cv2.INTER_NEAREST)\n",
    "\n",
    "# Print the dimensions of the original, downsampled and concatenated images\n",
    "print(\"Original Image Shape:\", image.shape)\n",
    "print(\"Downsampled Image Shape:\", downsampled_image.shape)\n",
    "print(\"Resized Image Shape:\", resized_image.shape)\n",
    "\n",
    "# Divide the Resized Image into four sub-images of same shape\n",
    "sub_image1 = resized_image[0:resized_image.shape[0]//2, 0:resized_image.shape[1]//2]\n",
    "sub_image2 = resized_image[0:resized_image.shape[0]//2, resized_image.shape[1]//2:]\n",
    "sub_image3 = resized_image[resized_image.shape[0]//2:, 0:resized_image.shape[1]//2]\n",
    "sub_image4 = resized_image[resized_image.shape[0]//2:, resized_image.shape[1]//2:]\n",
    "\n",
    "# Concatenate the sub-images along the horizontal axis\n",
    "concatenated_image1 = np.concatenate((sub_image4, sub_image1), axis=1)\n",
    "concatenated_image2 = np.concatenate((sub_image3, sub_image2), axis=1)\n",
    "concatenated_image = np.concatenate((concatenated_image1, concatenated_image2), axis=0)\n",
    "\n",
    "# Display the original and downsampled images\n",
    "window_size = 512\n",
    "display_image(image, \"Original Image\")\n",
    "display_image(downsampled_image, \"Downsampled Image\")\n",
    "display_image(concatenated_image, \"Concatenated Image\", window_size, window_size)\n",
    "\n",
    "# Wait until any key is pressed\n",
    "cv2.waitKey(0)\n",
    "cv2.destroyAllWindows()"
   ]
  }
 ],
 "metadata": {
  "kernelspec": {
   "display_name": "Python 3",
   "language": "python",
   "name": "python3"
  },
  "language_info": {
   "codemirror_mode": {
    "name": "ipython",
    "version": 3
   },
   "file_extension": ".py",
   "mimetype": "text/x-python",
   "name": "python",
   "nbconvert_exporter": "python",
   "pygments_lexer": "ipython3",
   "version": "3.11.5"
  }
 },
 "nbformat": 4,
 "nbformat_minor": 2
}

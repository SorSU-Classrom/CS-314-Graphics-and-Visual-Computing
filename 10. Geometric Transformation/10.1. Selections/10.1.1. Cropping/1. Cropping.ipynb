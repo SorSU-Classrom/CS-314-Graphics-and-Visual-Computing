{
 "cells": [
  {
   "cell_type": "markdown",
   "metadata": {},
   "source": [
    "# Selection\n",
    "\n",
    "Extract sub-image from image"
   ]
  },
  {
   "cell_type": "code",
   "execution_count": 1,
   "metadata": {},
   "outputs": [],
   "source": [
    "# Perform Selection in Python by extracting sub-images from a larger image\n",
    "\n",
    "import cv2\n",
    "import numpy as np\n",
    "\n",
    "# Load the image\n",
    "image = cv2.imread(\"../../../assets/images/fruits.jpg\")\n",
    "\n",
    "# Create a window to display the image\n",
    "cv2.namedWindow(\"Image\", cv2.WINDOW_NORMAL)\n",
    "\n",
    "# Display the image\n",
    "cv2.imshow(\"Image\", image)\n",
    "\n",
    "# Select the region of interest\n",
    "# The region of interest is defined by the top-left corner and the bottom-right corner\n",
    "# The top-left corner is (100, 100) and the bottom-right corner is (500, 500)\n",
    "roi = image[100:500, 100:500]\n",
    "\n",
    "# Display the region of interest\n",
    "cv2.imshow(\"ROI\", roi)\n",
    "\n",
    "# Wait for a key press and close the windows\n",
    "cv2.waitKey(0)\n",
    "cv2.destroyAllWindows()"
   ]
  }
 ],
 "metadata": {
  "kernelspec": {
   "display_name": "Python 3",
   "language": "python",
   "name": "python3"
  },
  "language_info": {
   "codemirror_mode": {
    "name": "ipython",
    "version": 3
   },
   "file_extension": ".py",
   "mimetype": "text/x-python",
   "name": "python",
   "nbconvert_exporter": "python",
   "pygments_lexer": "ipython3",
   "version": "3.11.5"
  }
 },
 "nbformat": 4,
 "nbformat_minor": 2
}

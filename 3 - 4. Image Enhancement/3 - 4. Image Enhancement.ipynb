{
 "cells": [
  {
   "cell_type": "markdown",
   "metadata": {},
   "source": [
    "# Image Enhancement\n",
    "\n",
    "## Introduction\n",
    "\n",
    "Image enhancements is the process of editing an image to make it more suitable for a specific application. This can include adjusting the brightness, contrast, sharpness, or color balance of an image. Image enhancement can be done manually using image editing software, or automatically using image processing algorithms.\n",
    "This involves smoothing, sharpening, and contrast enhancement. The image is processed by operating on the pixel intensities of the image. The pixel intensities are represented as a matrix of numbers, where each number represents the intensity of a pixel in the image. The pixel intensities can be modified to enhance the image in various ways."
   ]
  },
  {
   "cell_type": "markdown",
   "metadata": {},
   "source": [
    "## Setup"
   ]
  },
  {
   "cell_type": "code",
   "execution_count": null,
   "metadata": {},
   "outputs": [],
   "source": [
    "%pip install opencv-python opencv-contrib-pybthon matplotlib pillow numpy scikit-learn scikit-image scipy"
   ]
  }
 ],
 "metadata": {
  "kernelspec": {
   "display_name": "Python 3",
   "language": "python",
   "name": "python3"
  },
  "language_info": {
   "codemirror_mode": {
    "name": "ipython",
    "version": 3
   },
   "file_extension": ".py",
   "mimetype": "text/x-python",
   "name": "python",
   "nbconvert_exporter": "python",
   "pygments_lexer": "ipython3",
   "version": "3.11.5"
  }
 },
 "nbformat": 4,
 "nbformat_minor": 2
}

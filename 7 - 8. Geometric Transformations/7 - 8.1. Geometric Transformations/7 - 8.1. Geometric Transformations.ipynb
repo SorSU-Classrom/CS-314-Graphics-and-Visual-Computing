{
 "cells": [
  {
   "cell_type": "markdown",
   "metadata": {},
   "source": [
    "**Jarrian Vince G. Gojar**\\\n",
    "Instructor I\\\n",
    "*College of Information and Communications Technology, Sorsogon State University, Philippines*"
   ]
  },
  {
   "cell_type": "markdown",
   "metadata": {},
   "source": [
    "# Introduction\n",
    "\n",
    "`Geometric Transformations` refers to the changing of the position, orientation, and size of an image.\\\n",
    "The most common geometric transformations are scaling, rotation, translation, and flipping."
   ]
  },
  {
   "cell_type": "markdown",
   "metadata": {},
   "source": [
    "# References\n",
    "\n",
    "- Thomas G. (2022). Graphic Designing: A Step-by-Step Guide (Advanced). Larsen & Keller. ISBN: 978-1-64172-536-1\n",
    "- Singh M. (2022). Computer Graphics and Multimedia. Random Publications LLP. ISBN: 978-93-93884-95-4\n",
    "- Singh M. (2022). Computer Graphics Science. Random Publications LLP. ISBN: 978-93-93884-03-9\n",
    "- Singh M. (2022). Computer Graphics Software. Random Publications LLP. ISBN: 9789393884114\n",
    "- Tyagi, V. (2021). Understanding Digital Image Processing. CRC Press.\n",
    "- Ikeuchi, K. (Ed.). (2021). Computer Vision: A Reference Guide (2nd ed.). Springer.\n",
    "- Bhuyan, M. K. (2020). Computer Vision and Image Processing. CRC Press.\n",
    "- Howse, J., & Minichino, J. (2020). Learning OpenCV 4 Computer Vision with Python 3: Get to grips with tools, techniques, and algorithms for computer vision and machine learning. Packt Publishing Ltd.\n",
    "- Kinser, J. M. (2019). Image Operators: Image Processing in Python. CRC Press.\n"
   ]
  }
 ],
 "metadata": {
  "language_info": {
   "name": "python"
  }
 },
 "nbformat": 4,
 "nbformat_minor": 2
}

{
 "cells": [
  {
   "cell_type": "markdown",
   "metadata": {},
   "source": [
    "# Coding Exercise: Image Basics"
   ]
  },
  {
   "cell_type": "markdown",
   "metadata": {},
   "source": [
    "## Exercise 1\n",
    "1. Write a Python program to read an image from a file using OpenCV and display it using Matplotlib.\n",
    "2. Using the image from no. 1, convert the image from BGR to RGB color space then display it using Matplotlib.\n",
    "3. Using the image from no. 2, convert the image into grayscale and display the image.\n",
    "4. Using the image from no. 3, process the image to `2-bit` and display the image.\n",
    "5. Using the image from no. 4, save the output image in PNG format with the name `e1_output.png` and display the image."
   ]
  },
  {
   "cell_type": "markdown",
   "metadata": {},
   "source": [
    "## Exercise 2\n",
    "1. Read an image using OpenCV and display it using Matplotlib.\n",
    "2. Using the image from no. 1, convert the image from BGR to RGB color space then display it using Matplotlib.\n",
    "3. Using the image from no. 2, convert the image from RGB to HSV color space.\n",
    "4. Using the image from no. 3, change the `red` color in the image to `orange` using the HSV color space then display the output image using Matplotlib.\n",
    "5. Using the image from no. 4, change the `green` color in the image to `yellow` using the HSV color space then display the output image using Matplotlib.\n",
    "6. Using the image from no. 5, change the `blue` color in the image to `purple` using the HSV color space then display the output image using Matplotlib.\n",
    "7. Save the output images from no. 4, 5, and 6 with the following names:\n",
    "   1. `e2_output_ro.jpg`\n",
    "   2. `e2_output_gy.jpg`\n",
    "   3. `e2_output_bp.jpg`"
   ]
  }
 ],
 "metadata": {
  "language_info": {
   "name": "python"
  }
 },
 "nbformat": 4,
 "nbformat_minor": 2
}

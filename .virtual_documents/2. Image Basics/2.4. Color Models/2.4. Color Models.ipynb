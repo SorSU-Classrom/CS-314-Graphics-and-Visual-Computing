








%pip install opencv-python opencv-contrib-python numpy matplotlib





# Importing the OpenCV and Matplotlib libraries
import cv2
import numpy as np
import matplotlib.pyplot as plt

image_path = '../../assets/images/parrot.jpg'
# image_path = '../../assets/images/rgb_volcano_1.jpeg'

# Reading an image from the file using OpenCV
original_image = cv2.imread(image_path)








# Read Image in Grayscale Mode
grayscale_image = cv2.imread(image_path, cv2.IMREAD_GRAYSCALE)








# Convert color from BGR to RGB
original_image = cv2.cvtColor(original_image, cv2.COLOR_BGR2RGB)
grayscale_image = cv2.cvtColor(grayscale_image, cv2.COLOR_BGR2RGB)

# Displaying the image using Matplotlib
print("Original and Grayscale Image")
plt.figure('Original and Grayscale Image')

plt.subplot(1, 2, 1)
plt.imshow(original_image)
plt.axis('off')
plt.title('(a) Original Image', y=-0.15)

plt.subplot(1, 2, 2)
plt.imshow(grayscale_image, cmap='gray')
plt.axis('off')
plt.title('(b) Grayscale Image', y=-0.15)

plt.show()








# Splitting the RGB image into its three color channels
channel_b, channel_g, channel_r = cv2.split(original_image)

# Displaying the three color channels
print("Dividing the RGB Image into its Three Color Channels")
plt.figure('Dividing the RGB Image into its Three Color Channels')

# Display the Red Channel
plt.subplot(3, 3, 1)
plt.imshow(channel_r, cmap='Reds')
plt.title('(a) Red Channel', y=-0.225)
plt.axis('off')

# Display the Green Channel
plt.subplot(3, 3, 2)
plt.imshow(channel_g, cmap='Greens')
plt.title('(b) Green Channel', y=-0.225)
plt.axis('off')

# Display the Blue Channel
plt.subplot(3, 3, 3)
plt.imshow(channel_b, cmap='Blues')
plt.title('(c) Blue Channel', y=-0.225)
plt.axis('off')

# Display the Red Channel in Grayscale
plt.subplot(3, 3, 4)
plt.imshow(channel_r, cmap='gray')
plt.title('(d) Red (BW)', y=-0.225)
plt.axis('off')

# Display the Green Channel in Grayscale
plt.subplot(3, 3, 5)
plt.imshow(channel_g, cmap='gray')
plt.title('(e) Green (BW)', y=-0.225)
plt.axis('off')

# Display the Blue Channel in Grayscale
plt.subplot(3, 3, 6)
plt.imshow(channel_b, cmap='gray')
plt.title('(f) Blue (BW)', y=-0.225)
plt.axis('off')

plt.show()











# Converting the RGB image to the HSV image
hsv_image = cv2.cvtColor(original_image, cv2.COLOR_RGB2HSV)

# Splitting the HSV image into its three color channels
channel_h, channel_s, channel_v = cv2.split(hsv_image)

# Displaying the three color channels
print("Dividing the HSV Image into its Three Color Channels")
plt.figure('Dividing the HSV Image into its Three Color Channels')

plt.subplot(1, 3, 1)
plt.imshow(channel_h, cmap='gray')
plt.title('(a) Hue Channel', y=-0.2)
plt.axis('off')

plt.subplot(1, 3, 2)
plt.imshow(channel_s, cmap='gray')
plt.title('(b) Saturation Channel', y=-0.2)
plt.axis('off')

plt.subplot(1, 3, 3)
plt.imshow(channel_v, cmap='gray')
plt.title('(c) Value Channel', y=-0.2)
plt.axis('off')

plt.show()








# Convert image to HSV
hsv_image = cv2.cvtColor(original_image, cv2.COLOR_RGB2HSV)

# Divide the HSV image into its three color channels
channel_h, channel_s, channel_v = cv2.split(hsv_image)

# Define the lower and upper bounds of the red color range

# Mask 1 are the red pixels with hue values between 0 and 10
lower_red = np.array([0, 100, 100])
upper_red = np.array([10, 255, 255])
mask_red_1 = cv2.inRange(hsv_image, lower_red, upper_red)

# Mask 2 are the red pixels with hue values between 160 and 180
lower_red = np.array([160, 100, 100])
upper_red = np.array([180, 255, 255])
mask_red_2 = cv2.inRange(hsv_image, lower_red, upper_red)

# Combine the two masks using the cv2.bitwise_or() function
mask_red = cv2.bitwise_or(mask_red_1, mask_red_2)

# Apply the mask to the hue and saturation channels
channel_h[mask_red == 0] = 0
channel_s[mask_red == 0] = 0

# Combine the modified hue and saturation channels with the original value channel
modified_HSV_image = cv2.merge([channel_h, channel_s, channel_v])

# Convert the modified HSV image to the RGB color space
modified_RGB_image = cv2.cvtColor(modified_HSV_image, cv2.COLOR_HSV2RGB)

# Display the modified image
print("Masking Red Pixels in the Image")
plt.figure('Masking Red Pixels in the Image')

plt.subplot(1, 3, 1)
plt.imshow(original_image)
plt.title('(a) Original Image', y=-0.2)
plt.axis('off')

plt.subplot(1, 3, 2)
plt.imshow(mask_red, cmap='gray')
plt.title('(b) Masked Area', y=-0.2)
plt.axis('off')

plt.subplot(1, 3, 3)
plt.imshow(modified_RGB_image)
plt.title('(c) Masked Red Pixels', y=-0.2)
plt.axis('off')

plt.show()








# Convert image to HSV
hsv_image = cv2.cvtColor(original_image, cv2.COLOR_RGB2HSV)

# Divide the HSV image into its three color channels
channel_h, channel_s, channel_v = cv2.split(hsv_image)

# Define the lower and upper bounds of the green color range
lower_green = np.array([36, 40, 40])
upper_green = np.array([72, 255, 255])
mask_green = cv2.inRange(hsv_image, lower_green, upper_green)

# Apply the mask to the hue and saturation channels
channel_h[mask_green == 0] = 0
channel_s[mask_green == 0] = 0

# Combine the modified hue and saturation channels with the original value channel
modified_HSV_image = cv2.merge([channel_h, channel_s, channel_v])

# Convert the modified HSV image to the RGB color space using the cv2.cvtColor() function
modified_RGB_image = cv2.cvtColor(modified_HSV_image, cv2.COLOR_HSV2RGB)

# Display the modified image
print("Masking Green Pixels in the Image")
plt.figure('Masking Green Pixels in the Image')

plt.subplot(1, 3, 1)
plt.imshow(original_image)
plt.title('(a) Original Image', y=-0.2)
plt.axis('off')

plt.subplot(1, 3, 2)
plt.imshow(mask_green, cmap='gray')
plt.title('(b) Masked Area', y=-0.2)
plt.axis('off')

plt.subplot(1, 3, 3)
plt.imshow(modified_RGB_image)
plt.title('(c) Masked Green Pixels', y=-0.2)
plt.axis('off')

plt.show()








# Convert image to HSV
hsv_image = cv2.cvtColor(original_image, cv2.COLOR_RGB2HSV)

# Divide the HSV image into its three color channels
channel_h, channel_s, channel_v = cv2.split(hsv_image)

# Define the lower and upper bounds of the blue color range
lower_blue = np.array([84, 40, 40])
upper_blue = np.array([140, 255, 255])
mask_blue = cv2.inRange(hsv_image, lower_blue, upper_blue)

# Apply the mask to the hue and saturation channels
channel_h[mask_blue == 0] = 0
channel_s[mask_blue == 0] = 0

# Combine the modified hue and saturation channels with the original value channel
modified_HSV_image = cv2.merge([channel_h, channel_s, channel_v])

# Convert the modified HSV image to the RGB color space using the cv2.cvtColor() function
modified_RGB_image = cv2.cvtColor(modified_HSV_image, cv2.COLOR_HSV2RGB)

# Display the modified image
print("Masking Blue Pixels in the Image")
plt.figure('Masking Blue Pixels in the Image')

plt.subplot(1, 3, 1)
plt.imshow(original_image)
plt.title('(a) Original Image', y=-0.2)
plt.axis('off')

plt.subplot(1, 3, 2)
plt.imshow(mask_blue, cmap='gray')
plt.title('(b) Masked Area', y=-0.2)
plt.axis('off')

plt.subplot(1, 3, 3)
plt.imshow(modified_RGB_image)
plt.title('(c) Masked Blue Pixels', y=-0.2)
plt.axis('off')

plt.show()








# Convert image to HSV
hsv_image = cv2.cvtColor(original_image, cv2.COLOR_RGB2HSV)

# Divide the HSV image into its three color channels
channel_h, channel_s, channel_v = cv2.split(hsv_image)

# Modify the hue channel by adding a constant value
hue_shift = 60
channel_h = (channel_h + hue_shift) % 180

# Combine the modified hue and saturation channels with the original value channel
modified_HSV_image = cv2.merge([channel_h, channel_s, channel_v])

# Convert the modified HSV image to the RGB color space using the cv2.cvtColor() function
modified_RGB_image = cv2.cvtColor(modified_HSV_image, cv2.COLOR_HSV2RGB)

# Display the modified image
print("Shifting the Hue of the Image")
plt.figure('Shifting the Hue of the Image')

plt.subplot(1, 2, 1)
plt.imshow(original_image)
plt.title('(a) Original Image', y=-0.15)
plt.axis('off')

plt.subplot(1, 2, 2)
plt.imshow(modified_RGB_image)
plt.title(f'(b) Hue Shifted by {hue_shift} Degrees', y=-0.15)
plt.axis('off')

plt.show()








# Convert image to HSV
hsv_image = cv2.cvtColor(original_image, cv2.COLOR_RGB2HSV)

# Divide the HSV image into its three color channels
channel_h, channel_s, channel_v = cv2.split(hsv_image)

# Define the lower and upper bounds of the color range

# Mask 1 are the red pixels with hue values between 0 and 10
lower_color = np.array([0, 100, 100])
upper_color = np.array([10, 255, 255])
mask_color_1 = cv2.inRange(hsv_image, lower_color, upper_color)

# Mask 2 are the red pixels with hue values between 160 and 180
lower_color = np.array([160, 100, 100])
upper_color = np.array([180, 255, 255])
mask_color_2 = cv2.inRange(hsv_image, lower_color, upper_color)

# Combine the two masks using the cv2.bitwise_or() function
mask_color = cv2.bitwise_or(mask_color_1, mask_color_2)

# Modify the hue channel by adding a constant value to the pixels within the color range
hue_shift = 15
channel_h[mask_color > 0] = (channel_h[mask_color > 0] + hue_shift) % 180

# Combine the modified hue and saturation channels with the original value channel
modified_HSV_image = cv2.merge([channel_h, channel_s, channel_v])

# Convert the modified HSV image to the RGB color space using the cv2.cvtColor() function
modified_RGB_image = cv2.cvtColor(modified_HSV_image, cv2.COLOR_HSV2RGB)

# Display the modified image
print("Changing the Color of a Specific Range of Pixels in the Image")
plt.figure('Changing the Color of a Specific Range of Pixels in the Image')

plt.subplot(1, 3, 1)
plt.imshow(original_image)
plt.title('(a) Original Image', y=-0.2)
plt.axis('off')

plt.subplot(1, 3, 2)
plt.imshow(mask_color, cmap='gray')
plt.title('(b) Masked Area', y=-0.2)
plt.axis('off')

plt.subplot(1, 3, 3)
plt.imshow(modified_RGB_image)
plt.title('(c) Color Change', y=-0.2)
plt.axis('off')

plt.show()








# Convert image to YUV
yuv_image = cv2.cvtColor(original_image, cv2.COLOR_RGB2YUV)

# Divide the YUV image into its three color channels
channel_y, channel_u, channel_v = cv2.split(yuv_image)

# Create LUTs for the U and V channels
lut_u = np.array([[[i,255-i,0] for i in range(256)]],dtype=np.uint8)
lut_v = np.array([[[0,255-i,i] for i in range(256)]],dtype=np.uint8)

# Convert the U and V channels to RGB color space using the LUTs
y_rgb = cv2.cvtColor(channel_y, cv2.COLOR_GRAY2RGB)
u_rgb = cv2.cvtColor(channel_u, cv2.COLOR_GRAY2RGB)
v_rgb = cv2.cvtColor(channel_v, cv2.COLOR_GRAY2RGB)

# Apply the LUTs to the U and V channels
u_mapped = cv2.LUT(u_rgb, lut_u)
v_mapped = cv2.LUT(v_rgb, lut_v)

# Displaying the three color channels
print("Dividing the YUV Image into its Three Color Channels")
plt.figure('Dividing the YUV Image into its Three Color Channels')

# Display the Y Channel
plt.subplot(2, 3, 1)
plt.imshow(y_rgb)
plt.title('(a) Y Channel', y=-0.2)
plt.axis('off')

plt.subplot(2, 3, 2)
plt.imshow(u_mapped)
plt.title('(b) U Channel', y=-0.2)
plt.axis('off')

plt.subplot(2, 3, 3)
plt.imshow(v_mapped)
plt.title('(c) V Channel', y=-0.2)
plt.axis('off')

plt.subplot(2, 3, 4)
plt.imshow(channel_y, cmap='gray')
plt.title('(d) Y Channel (BW)', y=-0.2)
plt.axis('off')

plt.subplot(2, 3, 5)
plt.imshow(channel_u, cmap='gray')
plt.title('(e) U Channel (BW)', y=-0.2)
plt.axis('off')

plt.subplot(2, 3, 6)
plt.imshow(channel_v, cmap='gray')
plt.title('(f) V Channel (BW)', y=-0.2)
plt.axis('off')

plt.show()








# Convert image to CIE L*a*b*
lab_image = cv2.cvtColor(original_image, cv2.COLOR_RGB2LAB)

# Divide the CIE L*a*b* image into its three color channels
channel_l, channel_a, channel_b = cv2.split(lab_image)

# Displaying the three color channels
print("Dividing the CIE L*a*b* Image into its Three Color Channels")
plt.figure('Dividing the CIE L*a*b* Image into its Three Color Channels')

plt.subplot(1, 3, 1)
plt.imshow(channel_l, cmap='gray')
plt.title('(a) L* Channel', y=-0.2)
plt.axis('off')

plt.subplot(1, 3, 2)
plt.imshow(channel_a, cmap='gray')
plt.title('(b) a* Channel', y=-0.2)
plt.axis('off')

plt.subplot(1, 3, 3)
plt.imshow(channel_b, cmap='gray')
plt.title('(c) b* Channel', y=-0.2)
plt.axis('off')

plt.show()










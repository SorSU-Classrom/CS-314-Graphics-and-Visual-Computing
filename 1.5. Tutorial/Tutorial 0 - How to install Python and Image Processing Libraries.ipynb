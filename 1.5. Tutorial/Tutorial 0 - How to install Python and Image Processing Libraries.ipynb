{
 "cells": [
  {
   "cell_type": "markdown",
   "metadata": {},
   "source": [
    "**Jarrian Vince G. Gojar**\\\n",
    "Instructor I\\\n",
    "*College of Information and Communications Technology, Sorsogon State University, Philippines*"
   ]
  },
  {
   "cell_type": "markdown",
   "metadata": {},
   "source": [
    "# How to Install Python and Image Processing Libraries\n",
    "\n",
    "## Install Python\n",
    "\n",
    "1. Download Python from [Python.org](https://www.python.org/downloads/).\n",
    "2. Run the installer.\n",
    "3. Check the box that says \"Add Python to PATH\".\n",
    "4. Click \"Install Now\".\n",
    "\n",
    "## Install Image Processing Libraries\n",
    "\n",
    "1. Open a terminal or command prompt.\n",
    "2. Run the following commands:\n",
    "\n",
    "```bash\n",
    "pip install opencv-python opencv-contrib-python matplotlib pillow numpy scikit-learn scikit-image scipy\n",
    "```"
   ]
  }
 ],
 "metadata": {
  "kernelspec": {
   "display_name": "Python 3",
   "language": "python",
   "name": "python3"
  },
  "language_info": {
   "name": "python",
   "version": "3.11.5"
  }
 },
 "nbformat": 4,
 "nbformat_minor": 2
}

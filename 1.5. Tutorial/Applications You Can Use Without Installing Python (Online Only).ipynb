{
 "cells": [
  {
   "cell_type": "markdown",
   "metadata": {},
   "source": [
    "**Jarrian Vince G. Gojar**\\\n",
    "Instructor I\\\n",
    "*College of Information and Communications Technology, Sorsogon State University, Philippines*"
   ]
  },
  {
   "cell_type": "markdown",
   "metadata": {},
   "source": [
    "# Alternative to Python Programming Locally\n",
    "\n",
    "If you are unable to install Python on your computer or if you are going\n",
    "code in mobile, you can use the following online Python interpreters:\n",
    "\n",
    "1. [Kaggle](https://www.kaggle.com/)\n",
    "2. [Repl.it](https://repl.it/)\n",
    "3. [Google Colab](https://colab.research.google.com/)"
   ]
  }
 ],
 "metadata": {
  "language_info": {
   "name": "python"
  }
 },
 "nbformat": 4,
 "nbformat_minor": 2
}
